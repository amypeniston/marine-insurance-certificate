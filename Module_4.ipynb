{
 "cells": [
  {
   "cell_type": "markdown",
   "metadata": {},
   "source": [
    "# Module 4: Extraneous Risk"
   ]
  },
  {
   "cell_type": "markdown",
   "metadata": {},
   "source": [
    "**Goals**\n",
    "\n",
    "- [ ] Understand the various specialized coverages available in the marine insurance market"
   ]
  },
  {
   "cell_type": "markdown",
   "metadata": {},
   "source": [
    "#### Open Cover and Floating Cargo Insurance\n",
    "\n",
    "* Floating policy: cover for many shipments, subject to a sum insured.\n",
    "* Open cover: evolved from floating policies to enable continuous pre-arranged cargo insurance covering an indefinite number of future shipments. Insurers must accept any declaration of cargo within the terms of the policy."
   ]
  },
  {
   "cell_type": "markdown",
   "metadata": {},
   "source": [
    "#### Cover for Piracy\n",
    "\n",
    "Piracy requires three elements:\n",
    "* The vessel must be “at sea” - although a riverine policy would have cover\n",
    "* There must be a “robbery”\n",
    "* Force or threat of force must be used\n",
    "\n",
    "The UN Convention on the Law of the Sea (UNCLOS) states that these illegals acts must be committed for private ends and directed against a ship or aircraft either on the high seas or outside the jurisdiction of any state. Politically-geared actions on territorial waters are deemed “terrorism”, in which case war risk insurers would be exposed.\n",
    "\n",
    "P&I clubs usually cover liabilities due to pirate attacks.\n",
    "\n",
    "**Important Notes**\n",
    "* Abandoned cargo and ransom payments to pirates are subject of a General Average contribution. \n",
    "* However, if pirates are found to be aiding or abetting terrorists rather than seeking pure financial gain, then insurers would not be legally obligated to remunerate.\n",
    "\n",
    "There are many non-lethal devices that are used to protect ships against pirates:\n",
    "* Long Range Acoustic Device (LRAD) or Anti-Piracy Laser Device\n",
    "* Water Cannon\n",
    "* Electric Secure Fence\n",
    "* Nets\n",
    "* Slippery Foam\n",
    "* Anti-Piracy Curtain\n",
    "* Tasers"
   ]
  },
  {
   "cell_type": "markdown",
   "metadata": {},
   "source": [
    "#### War and Strikes Clauses\n",
    "\n",
    "War risks are considered uninsurable in the commercial insurance market and feature as a standard exclusion in property and liability policies. However, these risks are insurable in the marine and aviation markets via two sets of clauses: the Institute War Clauses (Cargo) and the Institute War and Strikes Clauses (Hulls-Time). As the geopolitical climate changes, the List of Areas of Perceived Enhanced Risk, the list of localities that are classified as “high” in respect of war risks, will also change. Vessels must alert underwriters when their voyage involves entering any of these high risk areas; subsequent coverage will be subject to approval and additional premium. There is a 7-day grace period for revisions to Joint War Committee list of locations.\n",
    "\n",
    "The War Exclusion Clause excludes any claim attributable to war including losses arising from the detonation of a derelict weapon of war.\n",
    "\n",
    "Hull and machinery is typically insured for war and strikes risks separately from marine risks, comprising a separate part of an underwriter’s account.\n",
    "\n",
    "Exclusions:\n",
    "* Strikes – must be violent, not just a withdrawal of labor.\n",
    "* Claims based on the frustration of the voyage"
   ]
  },
  {
   "cell_type": "markdown",
   "metadata": {},
   "source": [
    "#### Freight Insurance\n",
    "\n",
    "The term “freight” varies depending on who you are talking to. Marine freight refers to the money paid to the shipowner to carry cargo; marine freight insurance protects the policyholder against the loss of the money paid if the shipowner cannot complete his contract of carriage. Contracts are evidenced by a bill of lading or a charterparty.\n",
    "\n",
    "Although freight insurance could be purchased on a voyage by voyage basis, it is typically arranged for a twelve month period. The insurable value is the gross value of freight receivable plus the cost of insurance.\n",
    "\n",
    "The Freight Waiver Clause prevents the underwriters from making a claim for freight in the event of a total or constructive loss or where the ship is abandoned.\n",
    "\n",
    "The Freight Collision Clause covers three-fourths of the shipowner’s liability for collision damage that may attach to freight (not applicable in English law)."
   ]
  },
  {
   "cell_type": "markdown",
   "metadata": {},
   "source": [
    "#### Yacht Insurance\n",
    "\n",
    "Yacht insurance covers vessels used for pleasure purposes, rather than commercial vessels. Coverage is typically stringent:\n",
    "* Vessels are allowed to navigate only within approved areas and within speed limitations\n",
    "* Operators must be approved by the owner\n",
    "* It is the insured’s responsibility to prove that a loss was proximately caused by one of the named perils\n",
    "* Insurers will cover only the total loss value of the vessel in the event of a total loss following unrepaired damage\n",
    "* Personal effects are normally excluded\n",
    "\n",
    "The Sistership clause solves an intractable legal problem whereby under English law you cannot sue yourself. Instead, insurers can use arbitration to determine a suitable arrangement in the case of a collision between two vessels owned by the same insured.\n",
    "\n",
    "The Disbursements Warranty serves to prevent under-insurance and caps the amount of disbursemens that are payable.\n",
    "\n",
    "#### Increased Value (IV)\n",
    "\n",
    "Increased Value covers additional costs associated with replacing a lost ship beyond the market value. The limit for IV cover is set at 25% of the insured value under hull insurance.\n",
    "\n",
    "#### Mortgagees’ Interest Insurance\n",
    "\n",
    "When shipowners choose to mortgage vessels they retain an insurable interest in the ship even though it serves as security for a loan. In this case, the mortgagee (i.e. the bank) also has an insurable interest. MII coverage is limited to instances where the main hull insurers reject the claim, for example, when the ship is deliberately scuttled.\n",
    "\n",
    "#### Builder’s Risk and Newbuilding Risk Insurance\n",
    "\n",
    "Covers shipbuilders against all risks until delivery, including during construction, launching and trial voyages. Related cargo/transit interests are typically included within the coverage. Additional post-delivery guarantees can be purchased.\n",
    "\n",
    "Delay-in-delivery coverage has been the source of major losses over the years and is now prohibitively expensive. \n",
    "\n",
    "Products liability is not typically purchased as shipyards tend to believe that they do not have any ongoing liability in respect of products. In the US and EU, there are limits of eight and 10 years, respectively, during which the builder/repairer may be deemed liable.\n",
    "\n",
    "#### Overdue Insurance\n",
    "\n",
    "An insurer may seek reinsurance in the event that a ship is overdue. Overdue insurance is a form of total loss only reinsurance and is very costly.\n",
    "\n"
   ]
  },
  {
   "cell_type": "code",
   "execution_count": null,
   "metadata": {},
   "outputs": [],
   "source": []
  }
 ],
 "metadata": {
  "kernelspec": {
   "display_name": "Python 3",
   "language": "python",
   "name": "python3"
  },
  "language_info": {
   "codemirror_mode": {
    "name": "ipython",
    "version": 3
   },
   "file_extension": ".py",
   "mimetype": "text/x-python",
   "name": "python",
   "nbconvert_exporter": "python",
   "pygments_lexer": "ipython3",
   "version": "3.7.3"
  }
 },
 "nbformat": 4,
 "nbformat_minor": 2
}
