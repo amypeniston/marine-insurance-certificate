{
 "cells": [
  {
   "cell_type": "markdown",
   "metadata": {},
   "source": [
    "# Module 2: Cargo Insurance\n",
    "\n",
    "**Goals**\n",
    "\n",
    "- [ ] Understand how the principles of insurance apply to cargo\n",
    "- [ ] Contrast the differences in coverage in the The Institute Cargo Clauses A, B, C\n",
    "- [ ] Identify dangerous and problematic cargoes and the inherent risks they pose\n",
    "- [ ] Differentiate between an \"actual total loss\" and a \"constructive total loss\"\n",
    "- [ ] Recognize standard exclusions and apply them to hypothetical loss scenarios\n",
    "- [ ] List examples of particular charges and understand how they might be incurred"
   ]
  },
  {
   "cell_type": "markdown",
   "metadata": {},
   "source": [
    "#### Introduction\n",
    "\n",
    "Cargo insurance is one of the oldest forms of insurance, dating back to early Chinese river traders in 1500 BC. The purpose of cargo insurance is to provide financial protection to the owner of the cargo while goods are in transit and, to some extent, in storage. \n",
    "\n",
    "Insurers require certain information in order to price cover:\n",
    "* All details about the assured and the assured’s business\n",
    "* Subject matter to be insured: its value/sum-insured, packing/container, voyage plans, shippers’ information, storage details, terms of charter\n",
    "* If annual cargo cover or ongoing trading cover: estimated annual turnover, limit of liability on any one vessel, conveyance or storage site\n",
    "* Conditions of cover\n",
    "\n",
    "Details will be pre-recorded on the broker’s slip and the balance of all other material background information will be volunteered in the course of discussions with the underwriter(s).\n",
    "\n",
    "**Insurable interest** applies to cargo insurance as it does any other form of insurance. The 1906 Act takes into account the possibility that a cargo owner, while having an insurable interest at the time of loss, might not have interest at the time of policy issue. Once the assured is aware of the loss, he cannot acquire interest."
   ]
  },
  {
   "cell_type": "markdown",
   "metadata": {},
   "source": [
    "#### Dangerous/Problematic Cargoes\n",
    "\n",
    "* Bleaching powder – rapid decomposition, heat and fire; poisonous\n",
    "* Cement – deteriorates due to absorption of moisture/carbon dioxide\n",
    "* Coal/Coke – spontaneous combustion\n",
    "* Cocoa Beans – shrinkage; infestation\n",
    "* Coffee Beans – sensitive to moisture; infestation\n",
    "* Copra – spontaneous combustion; mold\n",
    "* Grain – infestation; germination\n",
    "* Hides – decomposition\n",
    "* Jute – flammable; subject to moisture damage\n",
    "* Sugar – subject to moisture damage\n",
    "* Sulphur – flammable"
   ]
  },
  {
   "cell_type": "markdown",
   "metadata": {},
   "source": [
    "#### The Institute Cargo Clauses A, B, C (1982)\n",
    "\n",
    "Cargo insurance covers more than the physical goods; there is also an element of coverage for the adventure:\n",
    "* General average\n",
    "* Salvage expenses\n",
    "* “Sue and labour” expenses\n",
    "* Forwarding charges\n",
    "\n",
    "Central to cargo insurance is the **Issue of Causation** and determining what was the “cause proximate”. In most cases only one cause is adjudged to be the proximate cause of loss and it the plaintiff’s responsibility to establish his case. Per the decision stemming from the case of The Miss Jay Jay, if there are two concurrent and effective causes of a marine loss, and one comes within the terms of the policy and the other does not, the insurers must pay. However, if one cause of loss falls within an exception, then the exception supersedes and no coverage applies.\n",
    "\n",
    "Thus, it is typically in the assured’s best interest to obtain the broadest coverage, i.e. under an “all-risks” form. However, even with the Institute Cargo Clauses A, there are limitations in the form of exceptions.\n",
    "\n",
    "* Clause A – All-risks coverage with exceptions (no cover for inevitabilities, only fortuitous events).\n",
    "* Clause B & C – Named peril coverage"
   ]
  },
  {
   "cell_type": "markdown",
   "metadata": {},
   "source": [
    "#### Named Perils\n",
    "* Fire and Explosion\n",
    "    * Accidental as well as deliberate fire (although note clause 4.7 which excludes damage due to deliberate/wrongful acts)\n",
    "    * Actions to put out a fire or prevent damage due to a fire\n",
    "* Piracy – covered in A but not a named peril in B & C\n",
    "    * Action by individual(s) acting for satisfaction of personal greed/vengeance; NOT a politically motivated organization\n",
    "    * Must be accompanied by violence at the time the “piratical” action is taking place; force used solely for purpose of escaping is not sufficient\n",
    "    * Piracy can take place in either territorial waters or international waters (contrast this to international law)\n",
    "* “Perils of the Sea” – Clauses B & C do not specifically refer to “perils of the sea” however provide named peril coverage for vessel stranding/sinking, collision and water entry. On this last point, it can be seen as slightly more lenient than Clause A, which does not cover the ordinary action of the wind and waves.\n",
    "* Theft – Clauses B & C do not cover theft, however there would be coverage under A. The extent is questionable.\n",
    "    * A secondary coverage under “The Institute Theft, Pilferage and Non-Delivery Clause” would be a way to protect against non-violent theft or pilferage\n",
    "    * Likewise, “The Institute Malicious Damage Clause” deletes the “deliberate destruction” exclusion and provides cover for damage due to malicious acts, vandalism and sabotage.\n",
    "* Earthquake Volcanic Eruption/Lightning aka “Acts of God” – covered in B, but not C\n",
    "* Overturning/Derailment – B & C\n",
    "* Discharge of Cargo at a port of distress – B & C \n",
    "    * May act as supplement to general average clause\n",
    "* General Average Sacrifice – B & C\n",
    "    * he contract of carriage typically provides for the application of the York-Antwerp Rules on General Average\n",
    "* Jettison or Washing Overboard – B (C only covers Jettison)"
   ]
  },
  {
   "cell_type": "markdown",
   "metadata": {},
   "source": [
    "#### Exclusions\n",
    "\n",
    "* Willful misconduct – A, B & C * Note that willful misconduct is also excluded by the Marine Insurance Act of 1906.\n",
    "* Ordinary leakage – A, B & C\n",
    "* Insufficiency of packing – A, B & C\n",
    "* Delay – A, B & C\n",
    "* Insolvency/financial default – A, B & C\n",
    "* Atomic weapon / Weapons of War – A, B & C\n",
    "    * An even stronger exclusion clause is The Institute Radioactive Contamination Exclusion Clause.\n",
    "* Deliberate damage/wrongful acts – B & C only \n",
    "* Inherent vice – A, B & C\n",
    "    * Ordinary wear and tear, leakage or breakage.\n",
    "    * The Institute Coal Clauses provide specific coverage for loss due to fire explosion or heating, even when caused by spontaneous combustion inherent vice.\n",
    "    * One important note - Clauses A do cover damage due to the inherent vice of some other cargo that is not the subject-matter of the insurance policy (B & C do not). Moreover, if that other inherent vice causes fire or explosion, then all clauses (A, B & C) would respond.\n",
    "* War and strike risks – A, B & C\n",
    "    * Coverage in respect of a variety of war and strike risks is obtainable via the Institute War Clauses (Cargo) and the Institute Strikes Clauses (Cargo).\n",
    "* Unseaworthiness – A, B & C\n",
    "    * Central to the determination of unseaworthiness is the burden of proof to show privity of the assured/alter ego.\n",
    "* “Paper Losses” – The all-risk A Clauses do not cover losses which exist only on paper, for example losses due to measurement error (no physical damage)."
   ]
  },
  {
   "cell_type": "markdown",
   "metadata": {},
   "source": [
    "#### Marine Fraud: The Salem\n",
    "\n",
    "One of the most interesting cases of maritime fraud involved the supertanker “Salem”. In 1979, conspirators implemented an elaborate plan to sell crude oil to a South African entity. In reality, they used the cover of a contractor’s voyage to offload cargo at the Port of Durban and intentionally sink the ship. Had it not been for the suspicious circumstances surrounding the event, insurance companies might have had to indemnify the owner for the loss of the ship and (non-existent) cargo.\n",
    "\n",
    "#### Duration and the Course of Transit\n",
    "\n",
    "Clause 8 outlines “warehouse to warehouse” terms, specifying that coverage continues only “during the ordinary course of transit”.\n",
    "\n",
    "#### Partial Losses\n",
    "\n",
    "Sections 71 of the Marine Insurance Act of 1906 outline how to calculate the measure of indemnity given a partial loss of goods, merchandise or other moveables. Section 72 describes how to apportion value for different species of property. \n",
    "\n",
    "#### Total Losses\n",
    "\n",
    "The Marine Insurance Act distinguishes between:\n",
    "\n",
    "* “Actual total loss” – total loss in fact & law; ceases to be a thing of the kind insured; not salvageable; no notice of abandonment need be given\n",
    "* “Constructive total loss” – total in law only; “deemed” total loss; complete loss appears unavoidable; unable to be salvaged within a “reasonable time” without expenditure which would exceed its value; in most instances, requires a notice of abandonment (intention to abandon; written or oral)\n",
    "    * One interesting case is Rodacanachi v. Elliot, physically undamaged cargo was deemed a constructive total loss due to restraint of princes (now covered under the Institute War Clauses)\n",
    "\n",
    "Nowadays, seizure of cargo by pirates is unlikely to be considered an actual total loss as cargoes are typically returned upon payment of ransom and therefore there exists a likelihood of recovery within a reasonable time "
   ]
  },
  {
   "cell_type": "markdown",
   "metadata": {},
   "source": [
    "#### Suing and Labouring Expenses\n",
    "\n",
    "As outlined in Clause 16 of A, B & C, the assured has a duty to take any such measures that may be reasonable to avert or minimize loss due to a covered peril. Assured must also do what is necessary to protect and preserve all rights against carriers, bailees or other third parties. Insurance will reimburse for these expenses, which classified as “particular charges”.\n",
    "Per Clause 17, these measures shall not be considered a waiver or acceptance of abandonment.\n",
    "\n",
    "#### Forwarding Charges\n",
    "\n",
    "Forwarding charges are a type of “particular charges” that are incurred by the assured in the event of the insured transit being terminated at an unplanned port. These charges cover the expense of unloading, storing and forwarding the subject-matter to the correct destination."
   ]
  }
 ],
 "metadata": {
  "kernelspec": {
   "display_name": "Python 3",
   "language": "python",
   "name": "python3"
  },
  "language_info": {
   "codemirror_mode": {
    "name": "ipython",
    "version": 3
   },
   "file_extension": ".py",
   "mimetype": "text/x-python",
   "name": "python",
   "nbconvert_exporter": "python",
   "pygments_lexer": "ipython3",
   "version": "3.7.3"
  }
 },
 "nbformat": 4,
 "nbformat_minor": 2
}
