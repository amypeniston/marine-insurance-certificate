{
 "cells": [
  {
   "cell_type": "markdown",
   "metadata": {},
   "source": [
    "# Module 1: Introduction to Marine Insurance\n",
    "\n",
    "**Goals**\n",
    "\n",
    "- [ ] Discuss various developments in marine insurance legislation over the last century\n",
    "- [ ] Understand the need for a fair presentation of a risk to the insurer and the cover granted to the insured\n",
    "- [ ] Differentiate between \"private (consumer)\" and \"commercial (non-consumer)\" policies\n",
    "- [ ] Differentiate between moral and physical hazard\n",
    "- [ ] Understand the need for utmost good faith\n",
    "- [ ] Understand the workings of the London Insurance Market and the role of the broker"
   ]
  },
  {
   "cell_type": "markdown",
   "metadata": {},
   "source": [
    "#### Insurance Act 1601\n",
    "\n",
    "> Insurance is grounded on risk transfer: for consideration (premium), the insured transfers the uncertainty of loss to the insurer. In turn, the insurer uses the premiums of the many to pay for the losses of the few. Through experience, the insurer is able to predict the frequency/severity of various hazards.\n",
    "\n",
    "#### Marine Insurance (Gambling Act) 1909"
   ]
  },
  {
   "cell_type": "markdown",
   "metadata": {},
   "source": [
    "#### History of Marine Insurance\n",
    "\n",
    "In recent years, insurance law has shifted from protecting the ignorant insurer against the concealment of facts to protecting the insured from the heavy-handed insurer.\n",
    "\n",
    "The focus is on English law, which is widely respected all over the world and forms the basis of insurance law in many different countries (ex: Australia). \n",
    "\n",
    "The earliest records of naval insurance appear in work by Dillani, an Italian historian, who cited a system developed in 1182. \"The Chronyk Van Vaen Vern\" contains the first mention of a marine insurance market in 1310. The merchants of Hanseatic League appear to be the first to create such a market, which consisted of a membership fo 86 towns. \n",
    "\n",
    "**Bottomry:** A contract in the nature of a mortgage by which money is borrowed using the ship and the cargo as security. This money would then be applied to the necessities of a ship. Interest is paid to the lender and both principal and interest are forfeited if the ship is lost on the voyage. \n",
    "\n",
    "**Respondentia:** Similar to bottomry, but using only the cargo as security. Money borrowed is used for the necessities of the cargo only.\n",
    "\n",
    "In 1236, Pope Gregory IX stipulated that a sum of money must be paid by the merchant to the lender - a premia - in order to obtain the loan.\n",
    "\n",
    "**Lloyd's Standard Form**\n",
    "\n",
    "* Developed in 1779; remained practically unchanged until 1982 for cargo and 1983 for hull\n",
    "* First alteration was in 1850, when opening sentence was change dfrom \"in the name of God, Amen\" to \"Be it known that\"\n",
    "* In 1874, the Waiver Clause was inserted following the Sue and Labour Clause - this enabled both parties to take measures to preserve the assets without prejudicing his rights regarding settlement\n",
    "* In 1919, the Frustration Clause was added in response to Sanday v. British & Foreign Marine Insurance Co - this dealt with losses due to inability to execute a contract\n"
   ]
  },
  {
   "cell_type": "code",
   "execution_count": null,
   "metadata": {},
   "outputs": [],
   "source": []
  }
 ],
 "metadata": {
  "kernelspec": {
   "display_name": "Python 3",
   "language": "python",
   "name": "python3"
  },
  "language_info": {
   "codemirror_mode": {
    "name": "ipython",
    "version": 3
   },
   "file_extension": ".py",
   "mimetype": "text/x-python",
   "name": "python",
   "nbconvert_exporter": "python",
   "pygments_lexer": "ipython3",
   "version": "3.7.3"
  }
 },
 "nbformat": 4,
 "nbformat_minor": 2
}
