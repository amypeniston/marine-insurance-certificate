{
 "cells": [
  {
   "cell_type": "markdown",
   "metadata": {},
   "source": [
    "# Module 5: Protection and Indemnity Insurance (P&I)"
   ]
  },
  {
   "cell_type": "markdown",
   "metadata": {},
   "source": [
    "**Goals**\n",
    "\n",
    "- [ ] Understand the structure, role and functions of P&I Clubs"
   ]
  },
  {
   "cell_type": "markdown",
   "metadata": {},
   "source": [
    "#### Introduction\n",
    "\n",
    "P&I Clubs evolved from earlier mutual associations which offered protection against fines levelled against shipowners for failure to declare cargo or for liability arising out of a collision (albeit only three-quarters of the total). To reduce overhead, many Clubs merged, which formed the P&I Clubs of today.\n",
    "\n",
    "Key historical events:\n",
    "\n",
    "* The Marine Insurance Act of 1745 barred shipowners from insuring their liabilities in excess of their ship’s value (calculated at $15/ton)\n",
    "* In 1836, courts ruled that shipowners could not recover from hull policies for collision damages\n",
    "* In 1846, Lord Campbell promoted an Act requiring executors to sue in the event of death due to negligence\n",
    "* In 1854, the UK introduced its first limitation of liability act, the Merchant Shipping Act\n",
    "* In 1855, to protect against the imposition of liabilities, the Shipowner’s Mutual Protection Society was formed\n",
    "\n",
    "P&I Clubs are mutual (non-profit) insurance societies or co-operatives – owned by the insured – that provide insurance “at cost”. These entities, which are not regulated by the IMO, offer members protection by spreading the risk of loss across the society’s membership base. There are currently 13 P&I Clubs, insuring 95% of the world’s ocean-going tonnage. \n",
    "\n",
    "The role of a P&I Club is: an insurance company, a law firm, a casualty response resource and a loss adjuster. Clubs are critically involved in oil spill coverage and organizing clean-up efforts, including liaising with the International Oil Pollution Compensation Fund (IOPCF) in the event of higher levels of third party claims. They also work with the International Tanker Owners Pollution Federation (ITOPF), which provides expertise in the areas of oil spill clean-up, damage assessment and technical advice. Governments often look to P&I Clubs for financial guarantees.\n",
    "\n",
    "When a new member joins a Club, he must pay a sum of money in advance, also known as a call. This fee contributes to the funds that are requested to pay losses and administrative costs. The call amount is based on the risks covered, the loss record and the ship’s tonnage.\n",
    "\n",
    "The benefit of mutual insurance is that Clubs provide insurance “at cost” and enable shipowners to access the reinsurance market for additional coverage, if needed.\n",
    "The 13 P&I Clubs have formed the International Group of P&I Clubs (IGPIA). This organization enables Clubs to share claims and buy high levels of collective reinsurance; it also provides a unified voice for members on legislative and industry matters.\n"
   ]
  },
  {
   "cell_type": "markdown",
   "metadata": {},
   "source": [
    "#### Constitution of a Club\n",
    "\n",
    "A Club’s Memorandum and Articles of Association form the basis for its “constitution”, including all rules governing member entry and exit as well as voting rights (for General Meetings). Entries in the Club for less than one year typically do not having voting rights. Disputes between members and Club must be reviewed by an elected committee before proceeding to arbitration or litigation. The Rules and Bye-Laws of the Club are the primary reference for member coverage.\n",
    "Clubs can be managed internally, by people employed by the Club, or by a separate firm. Duties include the all-important underwriting function, which must ensure that initial calls are sufficient to pay claims. Additional supplementary calls may need to be levied if initial calls are insufficient.\n",
    "\n",
    "The elected Board of Directors functions as a signatory on contracts, setting the frequency of calls, adjusting via supplementary calls and other high level duties. They also dictate the use of the Club’s reserve funds, into which profits can be transferred.\n",
    "\n",
    "New members must inform management of:\n",
    "\n",
    "* Hull and Machinery cover\n",
    "* Level of P&I cover required\n",
    "* Vessel details: type, size, age, flag and type of cargo\n",
    "* Geographical area\n",
    "* Vessel management\n",
    "* Crew nationality\n",
    "* Loss record\n",
    "\n",
    "Club entry is traditionally at noon on February 20th, the day at which the Baltic Sea was regarded as being ice-free."
   ]
  },
  {
   "cell_type": "markdown",
   "metadata": {},
   "source": [
    "#### Specialized Clubs & Covers\n",
    "\n",
    "**War and Strikes – Shipowner’s Mutual Strike Association**\n",
    "\n",
    "Three classes of cover are offered:\n",
    "\n",
    "* Class 1: Onshore Incidents\n",
    "* Class 2: Onshore Incidents following Class 1\n",
    "* Class 3: Onboard Incidents\n",
    "\n",
    "They also offer cover for damages due to acts of war.\n",
    "\n",
    "**Containers and Cranes**\n",
    "\n",
    "It is common for carriers to enter into third-party contracts with stevedores, terminal operators and inland carries to ensure final delivery of goods. These independent contractors do not receive the benefit of defenses and limits of liability afforded by the carrier. As a result, “Himalaya” clauses have been inserted into bills of lading to extend coverage stemming from the contract of carriage, subject to certain limitations and requirements. \n",
    "\n",
    "Even though a “Himalaya” clause is present, it does not guarantee protection for independent contractors. In the US, there are a minimum of three different clauses that must be entered in the bill of lading: the “Himalaya” clause, a Period of Responsibility clause and a clause Paramount. Likewise, in Canada, a “Himalaya” clause would protect a contractor from ordinary negligence but not gross negligence.\n",
    "\n",
    "The Through Transport Mutual Insurance Association aka Through Transport Club aka TT Club was formed to provide cover for loss or damage to their containers and chassis. Nowadays they also offer protection to stevedores and terminal operators, transport operators and port authorities under a “specified perils” policy. Furthermore, Directors of the Club can choose to pay a claim which is not directly covered according to the terms of insurance. The TT Club also provides risk management support, expertise, loss prevention advice and more.\n",
    "\n",
    "Defense against Disputes via Freight Defense and Demurrage Clubs (FD&D)\n",
    "These clubs provide cover for unpaid freight or hire or for demurrage (failure to load or discharge within a given timeframe) as well as additional defense costs not covered by hull and machinery policies."
   ]
  },
  {
   "cell_type": "markdown",
   "metadata": {},
   "source": [
    "#### P&I Clubs in Practice\n",
    "\n",
    "In addition to insurance, P&I Clubs offer loss prevention services; they also enable members to stay current on industry developments and form a unified voice in international forums and associations.\n",
    "\n",
    "Initially, calls were calculated using a standard rate of premium applied to the gross registered tonnage of vessels. Over time, the system has evolved to use a premium rating per gross registered ton on an individual vessel basis, accounting for the specific exposures.\n",
    "\n",
    "Risks covered include:\n",
    "\n",
    "* Personal injury, illness and death claims or seamen or passengers\n",
    "* Liabilities in respect of stowaways, cargo, collisions, grounds, unrecoverable GA contributions, damage to fixed and floating objects, pollution, wreck removal, towage, salvage and pollution\n",
    "\n",
    "Clubs typically limit their liability from one event to: $1000 million for oil pollution, $2000 million for passenger liability and $3000 million for passenger and crew liability.\n",
    "\n",
    "Termination can occur for various reasons:\n",
    "\n",
    "* A member’s decision (30 days notice)\n",
    "* Total loss of vessel/missing vessel (automatic)\n",
    "* A member sold his interest (automatic)\n",
    "* A member becomes bankrupt (30 days notice)\n",
    "* A member refuses to pay premiums (30 days notice)\n",
    "\n",
    "The International Transport Intermediaries Club insures professional liabilities of the network of correspondents who act as the “eyes and ears” for P&I Clubs. These individuals are experts within a local area and are responsible for handling all shipowner matters that fall within their region. Correspondents must respond effectively to and have contingency plans for a wide range of events. Note that correspondents are not technically agents of the Club and cannot act without prior approval."
   ]
  }
 ],
 "metadata": {
  "kernelspec": {
   "display_name": "Python 3",
   "language": "python",
   "name": "python3"
  },
  "language_info": {
   "codemirror_mode": {
    "name": "ipython",
    "version": 3
   },
   "file_extension": ".py",
   "mimetype": "text/x-python",
   "name": "python",
   "nbconvert_exporter": "python",
   "pygments_lexer": "ipython3",
   "version": "3.7.3"
  }
 },
 "nbformat": 4,
 "nbformat_minor": 2
}
